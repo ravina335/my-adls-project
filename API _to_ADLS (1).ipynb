{
 "cells": [
  {
   "cell_type": "code",
   "execution_count": 2,
   "id": "526924b9-3c52-4a29-9cb1-a0764160ec87",
   "metadata": {},
   "outputs": [],
   "source": [
    "import pandas as pd\n",
    "import requests\n",
    "from azure.storage.blob import BlobServiceClient, BlobClient, ContainerClient"
   ]
  },
  {
   "cell_type": "code",
   "execution_count": 5,
   "id": "9c750e98-fc40-4d0a-873a-fe1c3929eafc",
   "metadata": {},
   "outputs": [
    {
     "name": "stdout",
     "output_type": "stream",
     "text": [
      " Csv file 'users_data.csv' created!\n",
      "Container 'mycontainer' created.\n",
      "Uploaded 'users_data.csv' to Azure Blob Storage.\n"
     ]
    }
   ],
   "source": [
    "api_url = \"https://jsonplaceholder.typicode.com/users\"\n",
    "response= requests.get(api_url)\n",
    "data= response.json()\n",
    "df= pd.DataFrame(data)\n",
    "csv_filename= \"users_data.csv\"\n",
    "df.to_csv(csv_filename, index= False)\n",
    "print(f\" Csv file '{csv_filename}' created!\")\n",
    "\n",
    "account_name = \"ravinastorage123\"\n",
    "account_key = \"ERx6CMbbqKBeikwmkiRcqN0J54EX8GnqSc9r...........................\"\n",
    "container_name = \"mycontainer\" \n",
    "\n",
    "connection_string = f\"DefaultEndpointsProtocol=https;AccountName={account_name};AccountKey={account_key};EndpointSuffix=core.windows.net\"\n",
    "blob_service_client = BlobServiceClient.from_connection_string(connection_string)\n",
    "try:\n",
    "    container_client = blob_service_client.create_container(container_name)\n",
    "    print(f\"Container '{container_name}' created.\")\n",
    "except:\n",
    "    print(f\"Container '{container_name}' already exists.\")\n",
    "blob_client = blob_service_client.get_blob_client(container=container_name, blob=csv_filename)\n",
    "with open(csv_filename, \"rb\") as data:\n",
    "    blob_client.upload_blob(data, overwrite=True)\n",
    "    \n",
    "print(f\"Uploaded '{csv_filename}' to Azure Blob Storage.\")"
   ]
  },
  {
   "cell_type": "markdown",
   "id": "90455491-2bb7-476d-9fe8-b339a5a6ca14",
   "metadata": {},
   "source": [
    "                                            API 2"
   ]
  },
  {
   "cell_type": "code",
   "execution_count": 11,
   "id": "89464ad6-38e8-4db6-8532-02f72e44a650",
   "metadata": {},
   "outputs": [
    {
     "name": "stderr",
     "output_type": "stream",
     "text": [
      "[*********************100%***********************]  1 of 1 completed\n"
     ]
    },
    {
     "name": "stdout",
     "output_type": "stream",
     "text": [
      "CSV saved: infosys_stock_2024.csv\n",
      "container 'mycontainer' already exists!\n",
      "upload complete\n"
     ]
    }
   ],
   "source": [
    "import yfinance as yf\n",
    "symbol= \"INFY.NS\"\n",
    "start_date= \"2024-01-01\"\n",
    "end_date= \"2024-12-31\"\n",
    "data= yf.download(symbol, start= start_date, end= end_date)\n",
    "csv_filename = \"infosys_stock_2024.csv\"\n",
    "data.to_csv(csv_filename, index=False)\n",
    "print(\"CSV saved:\", csv_filename)\n",
    "\n",
    "account_name = \"ravinastorage123\"\n",
    "account_key = \"ERx6CMbbqKBeikwmkiRcqN0J54EX8GnqSc9r...................................\"\n",
    "container_name = \"mycontainer\" \n",
    "\n",
    "connection_string= f\"DefaultEndpointsProtocol=https;AccountName={account_name};AccountKey={account_key},EndpointSuffix=core.windows.net\"\n",
    "blob_service_client= BlobServiceClient.from_connection_string(connection_string)\n",
    "\n",
    "try:\n",
    "    container_client=blob_service_client.create_container(container_name)\n",
    "    print(f\"container '{container_name}' created!\")\n",
    "except:\n",
    "    print(f\"container '{container_name}' already exists!\")\n",
    "\n",
    "blob_client= blob_service_client.get_blob_client(container= container_name, blob=csv_filename)\n",
    "with open(csv_filename, \"rb\")as data:\n",
    "    blob_client.upload_blob(data, overwrite= True)\n",
    "print(\"upload complete\")\n"
   ]
  },
  {
   "cell_type": "code",
   "execution_count": null,
   "id": "e6f50b22-1b12-4a63-9af1-88da2c0b955d",
   "metadata": {},
   "outputs": [],
   "source": []
  }
 ],
 "metadata": {
  "kernelspec": {
   "display_name": "Python 3 (ipykernel)",
   "language": "python",
   "name": "python3"
  },
  "language_info": {
   "codemirror_mode": {
    "name": "ipython",
    "version": 3
   },
   "file_extension": ".py",
   "mimetype": "text/x-python",
   "name": "python",
   "nbconvert_exporter": "python",
   "pygments_lexer": "ipython3",
   "version": "3.13.3"
  }
 },
 "nbformat": 4,
 "nbformat_minor": 5
}
